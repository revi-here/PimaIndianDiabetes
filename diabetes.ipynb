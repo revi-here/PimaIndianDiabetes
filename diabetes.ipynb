{
 "cells": [
  {
   "cell_type": "markdown",
   "id": "6330d389",
   "metadata": {},
   "source": [
    "# Pima Indians Diabetes "
   ]
  },
  {
   "cell_type": "markdown",
   "id": "1d4b4e5a",
   "metadata": {},
   "source": [
    "# Table of contents  <a id='back'></a>\n",
    "1.[Introduction](#intro)  \n",
    "2.[Goals](#goals)  \n",
    "3.[Steps](#steps)    \n",
    "4.[Data Preprocessing](#data_prep)   \n",
    "5.[Correlation between different variables ](#correlation)  \n",
    "6.[Average measure of variables across different age groups ](#average)  \n",
    "7.[Final Conclusion](#end)  "
   ]
  },
  {
   "cell_type": "markdown",
   "id": "25cc0a91",
   "metadata": {},
   "source": [
    "<a id='intro'></a>\n",
    "## Introduction"
   ]
  },
  {
   "cell_type": "markdown",
   "id": "6e8e3b0f",
   "metadata": {},
   "source": [
    "<b>This dataset is originally from the National Institute of Diabetes and Digestive and Kidney Diseases.   \n",
    "The objective of the dataset is to diagnostically predict whether or not a patient has diabetes, based on certain diagnostic  \n",
    "measurements included in the dataset. Several constraints were placed on the selection of these instances from a larger  \n",
    "database. In particular, all patients here are females at least 21 years old of Pima Indian heritage.</b>"
   ]
  },
  {
   "cell_type": "markdown",
   "id": "6105111f",
   "metadata": {},
   "source": [
    "## Goals <a id='goals'></a>"
   ]
  },
  {
   "cell_type": "markdown",
   "id": "5aa16ed2",
   "metadata": {},
   "source": [
    "<b>1.Look for any correlation between different variables.  \n",
    "2.Study the trend of the variables for different age group.  \n",
    "3.Conclusion based on influence of the variables on the `Outcome` variable.</b>"
   ]
  },
  {
   "cell_type": "markdown",
   "id": "1726d128",
   "metadata": {},
   "source": [
    "## Steps <a id='steps'></a>"
   ]
  },
  {
   "cell_type": "markdown",
   "id": "e035cb8d",
   "metadata": {},
   "source": [
    "<b>1.Data Preprocesing.  \n",
    "2.Correlation matrix for different variables.  \n",
    "3.Study the average measures across different age groups.  \n",
    "4.Final Conclusion.</b>"
   ]
  },
  {
   "cell_type": "markdown",
   "id": "0997940e",
   "metadata": {},
   "source": [
    "[Back to Contents](#back)"
   ]
  },
  {
   "cell_type": "markdown",
   "id": "fdabb5f7",
   "metadata": {},
   "source": [
    "### Imports and loading dataset."
   ]
  },
  {
   "cell_type": "code",
   "execution_count": 32,
   "id": "daa17372",
   "metadata": {},
   "outputs": [],
   "source": [
    "#import different packages.\n",
    "import pandas as pd\n",
    "import numpy as np\n",
    "import seaborn as sns\n",
    "import matplotlib.pyplot as plt\n",
    "import warnings"
   ]
  },
  {
   "cell_type": "code",
   "execution_count": 33,
   "id": "930384c0",
   "metadata": {},
   "outputs": [],
   "source": [
    "#ignore warnings\n",
    "warnings.filterwarnings(\"ignore\")"
   ]
  },
  {
   "cell_type": "code",
   "execution_count": 34,
   "id": "445b28d4",
   "metadata": {},
   "outputs": [
    {
     "data": {
      "text/html": [
       "<div>\n",
       "<style scoped>\n",
       "    .dataframe tbody tr th:only-of-type {\n",
       "        vertical-align: middle;\n",
       "    }\n",
       "\n",
       "    .dataframe tbody tr th {\n",
       "        vertical-align: top;\n",
       "    }\n",
       "\n",
       "    .dataframe thead th {\n",
       "        text-align: right;\n",
       "    }\n",
       "</style>\n",
       "<table border=\"1\" class=\"dataframe\">\n",
       "  <thead>\n",
       "    <tr style=\"text-align: right;\">\n",
       "      <th></th>\n",
       "      <th>Pregnancies</th>\n",
       "      <th>Glucose</th>\n",
       "      <th>BloodPressure</th>\n",
       "      <th>SkinThickness</th>\n",
       "      <th>Insulin</th>\n",
       "      <th>BMI</th>\n",
       "      <th>DiabetesPedigreeFunction</th>\n",
       "      <th>Age</th>\n",
       "      <th>Outcome</th>\n",
       "    </tr>\n",
       "  </thead>\n",
       "  <tbody>\n",
       "    <tr>\n",
       "      <th>0</th>\n",
       "      <td>6</td>\n",
       "      <td>148</td>\n",
       "      <td>72</td>\n",
       "      <td>35</td>\n",
       "      <td>0</td>\n",
       "      <td>33.6</td>\n",
       "      <td>0.627</td>\n",
       "      <td>50</td>\n",
       "      <td>1</td>\n",
       "    </tr>\n",
       "    <tr>\n",
       "      <th>1</th>\n",
       "      <td>1</td>\n",
       "      <td>85</td>\n",
       "      <td>66</td>\n",
       "      <td>29</td>\n",
       "      <td>0</td>\n",
       "      <td>26.6</td>\n",
       "      <td>0.351</td>\n",
       "      <td>31</td>\n",
       "      <td>0</td>\n",
       "    </tr>\n",
       "    <tr>\n",
       "      <th>2</th>\n",
       "      <td>8</td>\n",
       "      <td>183</td>\n",
       "      <td>64</td>\n",
       "      <td>0</td>\n",
       "      <td>0</td>\n",
       "      <td>23.3</td>\n",
       "      <td>0.672</td>\n",
       "      <td>32</td>\n",
       "      <td>1</td>\n",
       "    </tr>\n",
       "    <tr>\n",
       "      <th>3</th>\n",
       "      <td>1</td>\n",
       "      <td>89</td>\n",
       "      <td>66</td>\n",
       "      <td>23</td>\n",
       "      <td>94</td>\n",
       "      <td>28.1</td>\n",
       "      <td>0.167</td>\n",
       "      <td>21</td>\n",
       "      <td>0</td>\n",
       "    </tr>\n",
       "    <tr>\n",
       "      <th>4</th>\n",
       "      <td>0</td>\n",
       "      <td>137</td>\n",
       "      <td>40</td>\n",
       "      <td>35</td>\n",
       "      <td>168</td>\n",
       "      <td>43.1</td>\n",
       "      <td>2.288</td>\n",
       "      <td>33</td>\n",
       "      <td>1</td>\n",
       "    </tr>\n",
       "  </tbody>\n",
       "</table>\n",
       "</div>"
      ],
      "text/plain": [
       "   Pregnancies  Glucose  BloodPressure  SkinThickness  Insulin   BMI  \\\n",
       "0            6      148             72             35        0  33.6   \n",
       "1            1       85             66             29        0  26.6   \n",
       "2            8      183             64              0        0  23.3   \n",
       "3            1       89             66             23       94  28.1   \n",
       "4            0      137             40             35      168  43.1   \n",
       "\n",
       "   DiabetesPedigreeFunction  Age  Outcome  \n",
       "0                     0.627   50        1  \n",
       "1                     0.351   31        0  \n",
       "2                     0.672   32        1  \n",
       "3                     0.167   21        0  \n",
       "4                     2.288   33        1  "
      ]
     },
     "execution_count": 34,
     "metadata": {},
     "output_type": "execute_result"
    }
   ],
   "source": [
    "# load the dataset\n",
    "data_df=pd.read_csv('diabetes.csv')\n",
    "data_df.head()"
   ]
  },
  {
   "cell_type": "code",
   "execution_count": 35,
   "id": "ab540152",
   "metadata": {},
   "outputs": [
    {
     "name": "stdout",
     "output_type": "stream",
     "text": [
      "<class 'pandas.core.frame.DataFrame'>\n",
      "RangeIndex: 768 entries, 0 to 767\n",
      "Data columns (total 9 columns):\n",
      " #   Column                    Non-Null Count  Dtype  \n",
      "---  ------                    --------------  -----  \n",
      " 0   Pregnancies               768 non-null    int64  \n",
      " 1   Glucose                   768 non-null    int64  \n",
      " 2   BloodPressure             768 non-null    int64  \n",
      " 3   SkinThickness             768 non-null    int64  \n",
      " 4   Insulin                   768 non-null    int64  \n",
      " 5   BMI                       768 non-null    float64\n",
      " 6   DiabetesPedigreeFunction  768 non-null    float64\n",
      " 7   Age                       768 non-null    int64  \n",
      " 8   Outcome                   768 non-null    int64  \n",
      "dtypes: float64(2), int64(7)\n",
      "memory usage: 54.1 KB\n"
     ]
    }
   ],
   "source": [
    "#dataset information\n",
    "data_df.info()"
   ]
  },
  {
   "cell_type": "markdown",
   "id": "99d955ef",
   "metadata": {},
   "source": [
    "<b>No missing values in the dataset.</b>"
   ]
  },
  {
   "cell_type": "markdown",
   "id": "c2ae1b12",
   "metadata": {},
   "source": [
    "[Back to Contents](#back)"
   ]
  },
  {
   "cell_type": "markdown",
   "id": "e81b1255",
   "metadata": {},
   "source": [
    "## Data Preprocessing.  <a id='data_prep'></a>"
   ]
  },
  {
   "cell_type": "code",
   "execution_count": 36,
   "id": "70d2b365",
   "metadata": {},
   "outputs": [
    {
     "data": {
      "text/plain": [
       "1     135\n",
       "0     111\n",
       "2     103\n",
       "3      75\n",
       "4      68\n",
       "5      57\n",
       "6      50\n",
       "7      45\n",
       "8      38\n",
       "9      28\n",
       "10     24\n",
       "11     11\n",
       "13     10\n",
       "12      9\n",
       "14      2\n",
       "15      1\n",
       "17      1\n",
       "Name: Pregnancies, dtype: int64"
      ]
     },
     "metadata": {},
     "output_type": "display_data"
    },
    {
     "data": {
      "text/plain": [
       "99     17\n",
       "100    17\n",
       "111    14\n",
       "129    14\n",
       "125    14\n",
       "       ..\n",
       "191     1\n",
       "177     1\n",
       "44      1\n",
       "62      1\n",
       "190     1\n",
       "Name: Glucose, Length: 136, dtype: int64"
      ]
     },
     "metadata": {},
     "output_type": "display_data"
    },
    {
     "data": {
      "text/plain": [
       "70     57\n",
       "74     52\n",
       "78     45\n",
       "68     45\n",
       "72     44\n",
       "64     43\n",
       "80     40\n",
       "76     39\n",
       "60     37\n",
       "0      35\n",
       "62     34\n",
       "66     30\n",
       "82     30\n",
       "88     25\n",
       "84     23\n",
       "90     22\n",
       "86     21\n",
       "58     21\n",
       "50     13\n",
       "56     12\n",
       "52     11\n",
       "54     11\n",
       "75      8\n",
       "92      8\n",
       "65      7\n",
       "85      6\n",
       "94      6\n",
       "48      5\n",
       "96      4\n",
       "44      4\n",
       "100     3\n",
       "106     3\n",
       "98      3\n",
       "110     3\n",
       "55      2\n",
       "108     2\n",
       "104     2\n",
       "46      2\n",
       "30      2\n",
       "122     1\n",
       "95      1\n",
       "102     1\n",
       "61      1\n",
       "24      1\n",
       "38      1\n",
       "40      1\n",
       "114     1\n",
       "Name: BloodPressure, dtype: int64"
      ]
     },
     "metadata": {},
     "output_type": "display_data"
    },
    {
     "data": {
      "text/plain": [
       "0     227\n",
       "32     31\n",
       "30     27\n",
       "27     23\n",
       "23     22\n",
       "33     20\n",
       "28     20\n",
       "18     20\n",
       "31     19\n",
       "19     18\n",
       "39     18\n",
       "29     17\n",
       "40     16\n",
       "25     16\n",
       "26     16\n",
       "22     16\n",
       "37     16\n",
       "41     15\n",
       "35     15\n",
       "36     14\n",
       "15     14\n",
       "17     14\n",
       "20     13\n",
       "24     12\n",
       "42     11\n",
       "13     11\n",
       "21     10\n",
       "46      8\n",
       "34      8\n",
       "12      7\n",
       "38      7\n",
       "11      6\n",
       "43      6\n",
       "16      6\n",
       "45      6\n",
       "14      6\n",
       "44      5\n",
       "10      5\n",
       "48      4\n",
       "47      4\n",
       "49      3\n",
       "50      3\n",
       "8       2\n",
       "7       2\n",
       "52      2\n",
       "54      2\n",
       "63      1\n",
       "60      1\n",
       "56      1\n",
       "51      1\n",
       "99      1\n",
       "Name: SkinThickness, dtype: int64"
      ]
     },
     "metadata": {},
     "output_type": "display_data"
    },
    {
     "data": {
      "text/plain": [
       "0      374\n",
       "105     11\n",
       "130      9\n",
       "140      9\n",
       "120      8\n",
       "      ... \n",
       "73       1\n",
       "171      1\n",
       "255      1\n",
       "52       1\n",
       "112      1\n",
       "Name: Insulin, Length: 186, dtype: int64"
      ]
     },
     "metadata": {},
     "output_type": "display_data"
    },
    {
     "data": {
      "text/plain": [
       "32.0    13\n",
       "31.6    12\n",
       "31.2    12\n",
       "0.0     11\n",
       "32.4    10\n",
       "        ..\n",
       "36.7     1\n",
       "41.8     1\n",
       "42.6     1\n",
       "42.8     1\n",
       "46.3     1\n",
       "Name: BMI, Length: 248, dtype: int64"
      ]
     },
     "metadata": {},
     "output_type": "display_data"
    },
    {
     "data": {
      "text/plain": [
       "0.258    6\n",
       "0.254    6\n",
       "0.268    5\n",
       "0.207    5\n",
       "0.261    5\n",
       "        ..\n",
       "1.353    1\n",
       "0.655    1\n",
       "0.092    1\n",
       "0.926    1\n",
       "0.171    1\n",
       "Name: DiabetesPedigreeFunction, Length: 517, dtype: int64"
      ]
     },
     "metadata": {},
     "output_type": "display_data"
    },
    {
     "data": {
      "text/plain": [
       "22    72\n",
       "21    63\n",
       "25    48\n",
       "24    46\n",
       "23    38\n",
       "28    35\n",
       "26    33\n",
       "27    32\n",
       "29    29\n",
       "31    24\n",
       "41    22\n",
       "30    21\n",
       "37    19\n",
       "42    18\n",
       "33    17\n",
       "38    16\n",
       "36    16\n",
       "32    16\n",
       "45    15\n",
       "34    14\n",
       "46    13\n",
       "43    13\n",
       "40    13\n",
       "39    12\n",
       "35    10\n",
       "50     8\n",
       "51     8\n",
       "52     8\n",
       "44     8\n",
       "58     7\n",
       "47     6\n",
       "54     6\n",
       "49     5\n",
       "48     5\n",
       "57     5\n",
       "53     5\n",
       "60     5\n",
       "66     4\n",
       "63     4\n",
       "62     4\n",
       "55     4\n",
       "67     3\n",
       "56     3\n",
       "59     3\n",
       "65     3\n",
       "69     2\n",
       "61     2\n",
       "72     1\n",
       "81     1\n",
       "64     1\n",
       "70     1\n",
       "68     1\n",
       "Name: Age, dtype: int64"
      ]
     },
     "metadata": {},
     "output_type": "display_data"
    },
    {
     "data": {
      "text/plain": [
       "0    500\n",
       "1    268\n",
       "Name: Outcome, dtype: int64"
      ]
     },
     "metadata": {},
     "output_type": "display_data"
    }
   ],
   "source": [
    "#look for value counts in each column.\n",
    "for col in data_df.columns:\n",
    "    display(data_df[col].value_counts())"
   ]
  },
  {
   "cell_type": "code",
   "execution_count": 37,
   "id": "f2b6aebe",
   "metadata": {},
   "outputs": [
    {
     "data": {
      "image/png": "[encoded data removed]",
      "text/plain": [
       "<Figure size 1080x864 with 8 Axes>"
      ]
     },
     "metadata": {
      "needs_background": "light"
     },
     "output_type": "display_data"
    }
   ],
   "source": [
    "#Let’s visualize these 8 features provided in the dataset –\n",
    "\n",
    "fig, axs = plt.subplots(4, 2, figsize=(15,12))\n",
    "axs = axs.flatten()\n",
    "sns.distplot(data_df['Pregnancies'],rug=True,color='#38b000',ax=axs[0])\n",
    "sns.distplot(data_df['Glucose'],rug=True,color='#FF9933',ax=axs[1])\n",
    "sns.distplot(data_df['BloodPressure'],rug=True,color='#522500',ax=axs[2])\n",
    "sns.distplot(data_df['SkinThickness'],rug=True,color='#66b3ff',ax=axs[3])\n",
    "sns.distplot(data_df['Insulin'],rug=True,color='#FF6699',ax=axs[4])\n",
    "sns.distplot(data_df['BMI'],color='#e76f51',rug=True,ax=axs[5])\n",
    "sns.distplot(data_df['DiabetesPedigreeFunction'],color='#03045e',rug=True,ax=axs[6])\n",
    "sns.distplot(data_df['Age'],rug=True,color='#333533',ax=axs[7])\n",
    "plt.show()"
   ]
  },
  {
   "cell_type": "markdown",
   "id": "8244e429",
   "metadata": {},
   "source": [
    "<b>From the above plots, we see that there are 0 in some fields which are impossible to occur like BloodPressure, Glucose, Insulin.  \n",
    "1.Insulin and SkinThickness have around 200-300 data with 0. We replace the 0 with average of the fields respectively.  \n",
    "2.Glucose and BMI have way few(less than 10%) with ).So we ignore them in the data .</b>"
   ]
  },
  {
   "cell_type": "code",
   "execution_count": 38,
   "id": "b3c4252e",
   "metadata": {},
   "outputs": [],
   "source": [
    "#replace 0 with mean of the column(Insulin) values\n",
    "data_df['Insulin'].replace(0, np.nan, inplace=True)"
   ]
  },
  {
   "cell_type": "code",
   "execution_count": 39,
   "id": "25d9ea2c",
   "metadata": {},
   "outputs": [
    {
     "data": {
      "text/plain": [
       "0      155.548223\n",
       "1      155.548223\n",
       "2      155.548223\n",
       "3       94.000000\n",
       "4      168.000000\n",
       "          ...    \n",
       "763    180.000000\n",
       "764    155.548223\n",
       "765    112.000000\n",
       "766    155.548223\n",
       "767    155.548223\n",
       "Name: Insulin, Length: 768, dtype: float64"
      ]
     },
     "execution_count": 39,
     "metadata": {},
     "output_type": "execute_result"
    }
   ],
   "source": [
    "data_df['Insulin'].fillna(data_df['Insulin'].mean())"
   ]
  },
  {
   "cell_type": "code",
   "execution_count": 40,
   "id": "f4da5b46",
   "metadata": {},
   "outputs": [
    {
     "data": {
      "text/plain": [
       "array([ nan,  94., 168.,  88., 543., 846., 175., 230.,  83.,  96., 235.,\n",
       "       146., 115., 140., 110., 245.,  54., 192., 207.,  70., 240.,  82.,\n",
       "        36.,  23., 300., 342., 304., 142., 128.,  38., 100.,  90., 270.,\n",
       "        71., 125., 176.,  48.,  64., 228.,  76., 220.,  40., 152.,  18.,\n",
       "       135., 495.,  37.,  51.,  99., 145., 225.,  49.,  50.,  92., 325.,\n",
       "        63., 284., 119., 204., 155., 485.,  53., 114., 105., 285., 156.,\n",
       "        78., 130.,  55.,  58., 160., 210., 318.,  44., 190., 280.,  87.,\n",
       "       271., 129., 120., 478.,  56.,  32., 744., 370.,  45., 194., 680.,\n",
       "       402., 258., 375., 150.,  67.,  57., 116., 278., 122., 545.,  75.,\n",
       "        74., 182., 360., 215., 184.,  42., 132., 148., 180., 205.,  85.,\n",
       "       231.,  29.,  68.,  52., 255., 171.,  73., 108.,  43., 167., 249.,\n",
       "       293.,  66., 465.,  89., 158.,  84.,  72.,  59.,  81., 196., 415.,\n",
       "       275., 165., 579., 310.,  61., 474., 170., 277.,  60.,  14.,  95.,\n",
       "       237., 191., 328., 250., 480., 265., 193.,  79.,  86., 326., 188.,\n",
       "       106.,  65., 166., 274.,  77., 126., 330., 600., 185.,  25.,  41.,\n",
       "       272., 321., 144.,  15., 183.,  91.,  46., 440., 159., 540., 200.,\n",
       "       335., 387.,  22., 291., 392., 178., 127., 510.,  16., 112.])"
      ]
     },
     "execution_count": 40,
     "metadata": {},
     "output_type": "execute_result"
    }
   ],
   "source": [
    "data_df['Insulin'].unique()"
   ]
  },
  {
   "cell_type": "code",
   "execution_count": 41,
   "id": "8a231b29",
   "metadata": {},
   "outputs": [
    {
     "data": {
      "text/plain": [
       "0      35.00000\n",
       "1      29.00000\n",
       "2      29.15342\n",
       "3      23.00000\n",
       "4      35.00000\n",
       "         ...   \n",
       "763    48.00000\n",
       "764    27.00000\n",
       "765    23.00000\n",
       "766    29.15342\n",
       "767    31.00000\n",
       "Name: SkinThickness, Length: 768, dtype: float64"
      ]
     },
     "execution_count": 41,
     "metadata": {},
     "output_type": "execute_result"
    }
   ],
   "source": [
    "#replace 0 with mean of the column(SkinThickness) values\n",
    "data_df['SkinThickness'].replace(0, np.nan, inplace=True)\n",
    "data_df['SkinThickness'].fillna(data_df['SkinThickness'].mean())"
   ]
  },
  {
   "cell_type": "code",
   "execution_count": 42,
   "id": "f1d78240",
   "metadata": {},
   "outputs": [
    {
     "data": {
      "text/plain": [
       "0      72.0\n",
       "1      66.0\n",
       "2      64.0\n",
       "3      66.0\n",
       "4      40.0\n",
       "       ... \n",
       "763    76.0\n",
       "764    70.0\n",
       "765    72.0\n",
       "766    60.0\n",
       "767    70.0\n",
       "Name: BloodPressure, Length: 768, dtype: float64"
      ]
     },
     "execution_count": 42,
     "metadata": {},
     "output_type": "execute_result"
    }
   ],
   "source": [
    "#replace 0 with mean of the column(BloodPressure) values\n",
    "data_df['BloodPressure'].replace(0, np.nan, inplace=True)\n",
    "data_df['BloodPressure'].fillna(data_df['BloodPressure'].mean())"
   ]
  },
  {
   "cell_type": "code",
   "execution_count": 43,
   "id": "99983590",
   "metadata": {},
   "outputs": [
    {
     "data": {
      "text/html": [
       "<div>\n",
       "<style scoped>\n",
       "    .dataframe tbody tr th:only-of-type {\n",
       "        vertical-align: middle;\n",
       "    }\n",
       "\n",
       "    .dataframe tbody tr th {\n",
       "        vertical-align: top;\n",
       "    }\n",
       "\n",
       "    .dataframe thead th {\n",
       "        text-align: right;\n",
       "    }\n",
       "</style>\n",
       "<table border=\"1\" class=\"dataframe\">\n",
       "  <thead>\n",
       "    <tr style=\"text-align: right;\">\n",
       "      <th></th>\n",
       "      <th>Pregnancies</th>\n",
       "      <th>Glucose</th>\n",
       "      <th>BloodPressure</th>\n",
       "      <th>SkinThickness</th>\n",
       "      <th>Insulin</th>\n",
       "      <th>BMI</th>\n",
       "      <th>DiabetesPedigreeFunction</th>\n",
       "      <th>Age</th>\n",
       "      <th>Outcome</th>\n",
       "    </tr>\n",
       "  </thead>\n",
       "  <tbody>\n",
       "    <tr>\n",
       "      <th>count</th>\n",
       "      <td>768.000000</td>\n",
       "      <td>768.000000</td>\n",
       "      <td>733.000000</td>\n",
       "      <td>541.000000</td>\n",
       "      <td>394.000000</td>\n",
       "      <td>768.000000</td>\n",
       "      <td>768.000000</td>\n",
       "      <td>768.000000</td>\n",
       "      <td>768.000000</td>\n",
       "    </tr>\n",
       "    <tr>\n",
       "      <th>mean</th>\n",
       "      <td>3.845052</td>\n",
       "      <td>120.894531</td>\n",
       "      <td>72.405184</td>\n",
       "      <td>29.153420</td>\n",
       "      <td>155.548223</td>\n",
       "      <td>31.992578</td>\n",
       "      <td>0.471876</td>\n",
       "      <td>33.240885</td>\n",
       "      <td>0.348958</td>\n",
       "    </tr>\n",
       "    <tr>\n",
       "      <th>std</th>\n",
       "      <td>3.369578</td>\n",
       "      <td>31.972618</td>\n",
       "      <td>12.382158</td>\n",
       "      <td>10.476982</td>\n",
       "      <td>118.775855</td>\n",
       "      <td>7.884160</td>\n",
       "      <td>0.331329</td>\n",
       "      <td>11.760232</td>\n",
       "      <td>0.476951</td>\n",
       "    </tr>\n",
       "    <tr>\n",
       "      <th>min</th>\n",
       "      <td>0.000000</td>\n",
       "      <td>0.000000</td>\n",
       "      <td>24.000000</td>\n",
       "      <td>7.000000</td>\n",
       "      <td>14.000000</td>\n",
       "      <td>0.000000</td>\n",
       "      <td>0.078000</td>\n",
       "      <td>21.000000</td>\n",
       "      <td>0.000000</td>\n",
       "    </tr>\n",
       "    <tr>\n",
       "      <th>25%</th>\n",
       "      <td>1.000000</td>\n",
       "      <td>99.000000</td>\n",
       "      <td>64.000000</td>\n",
       "      <td>22.000000</td>\n",
       "      <td>76.250000</td>\n",
       "      <td>27.300000</td>\n",
       "      <td>0.243750</td>\n",
       "      <td>24.000000</td>\n",
       "      <td>0.000000</td>\n",
       "    </tr>\n",
       "    <tr>\n",
       "      <th>50%</th>\n",
       "      <td>3.000000</td>\n",
       "      <td>117.000000</td>\n",
       "      <td>72.000000</td>\n",
       "      <td>29.000000</td>\n",
       "      <td>125.000000</td>\n",
       "      <td>32.000000</td>\n",
       "      <td>0.372500</td>\n",
       "      <td>29.000000</td>\n",
       "      <td>0.000000</td>\n",
       "    </tr>\n",
       "    <tr>\n",
       "      <th>75%</th>\n",
       "      <td>6.000000</td>\n",
       "      <td>140.250000</td>\n",
       "      <td>80.000000</td>\n",
       "      <td>36.000000</td>\n",
       "      <td>190.000000</td>\n",
       "      <td>36.600000</td>\n",
       "      <td>0.626250</td>\n",
       "      <td>41.000000</td>\n",
       "      <td>1.000000</td>\n",
       "    </tr>\n",
       "    <tr>\n",
       "      <th>max</th>\n",
       "      <td>17.000000</td>\n",
       "      <td>199.000000</td>\n",
       "      <td>122.000000</td>\n",
       "      <td>99.000000</td>\n",
       "      <td>846.000000</td>\n",
       "      <td>67.100000</td>\n",
       "      <td>2.420000</td>\n",
       "      <td>81.000000</td>\n",
       "      <td>1.000000</td>\n",
       "    </tr>\n",
       "  </tbody>\n",
       "</table>\n",
       "</div>"
      ],
      "text/plain": [
       "       Pregnancies     Glucose  BloodPressure  SkinThickness     Insulin  \\\n",
       "count   768.000000  768.000000     733.000000     541.000000  394.000000   \n",
       "mean      3.845052  120.894531      72.405184      29.153420  155.548223   \n",
       "std       3.369578   31.972618      12.382158      10.476982  118.775855   \n",
       "min       0.000000    0.000000      24.000000       7.000000   14.000000   \n",
       "25%       1.000000   99.000000      64.000000      22.000000   76.250000   \n",
       "50%       3.000000  117.000000      72.000000      29.000000  125.000000   \n",
       "75%       6.000000  140.250000      80.000000      36.000000  190.000000   \n",
       "max      17.000000  199.000000     122.000000      99.000000  846.000000   \n",
       "\n",
       "              BMI  DiabetesPedigreeFunction         Age     Outcome  \n",
       "count  768.000000                768.000000  768.000000  768.000000  \n",
       "mean    31.992578                  0.471876   33.240885    0.348958  \n",
       "std      7.884160                  0.331329   11.760232    0.476951  \n",
       "min      0.000000                  0.078000   21.000000    0.000000  \n",
       "25%     27.300000                  0.243750   24.000000    0.000000  \n",
       "50%     32.000000                  0.372500   29.000000    0.000000  \n",
       "75%     36.600000                  0.626250   41.000000    1.000000  \n",
       "max     67.100000                  2.420000   81.000000    1.000000  "
      ]
     },
     "execution_count": 43,
     "metadata": {},
     "output_type": "execute_result"
    }
   ],
   "source": [
    "#descriptive statistics for each column in the dataset.(checking for outliers)\n",
    "data_df.describe()"
   ]
  },
  {
   "cell_type": "markdown",
   "id": "280fa326",
   "metadata": {},
   "source": [
    "<b>We don't see much of a skewed data or outlier.</b>"
   ]
  },
  {
   "cell_type": "code",
   "execution_count": 44,
   "id": "67477b98",
   "metadata": {},
   "outputs": [
    {
     "data": {
      "text/html": [
       "<div>\n",
       "<style scoped>\n",
       "    .dataframe tbody tr th:only-of-type {\n",
       "        vertical-align: middle;\n",
       "    }\n",
       "\n",
       "    .dataframe tbody tr th {\n",
       "        vertical-align: top;\n",
       "    }\n",
       "\n",
       "    .dataframe thead th {\n",
       "        text-align: right;\n",
       "    }\n",
       "</style>\n",
       "<table border=\"1\" class=\"dataframe\">\n",
       "  <thead>\n",
       "    <tr style=\"text-align: right;\">\n",
       "      <th></th>\n",
       "      <th>Pregnancies</th>\n",
       "      <th>Glucose</th>\n",
       "      <th>BloodPressure</th>\n",
       "      <th>SkinThickness</th>\n",
       "      <th>Insulin</th>\n",
       "      <th>BMI</th>\n",
       "      <th>DiabetesPedigreeFunction</th>\n",
       "      <th>Age</th>\n",
       "      <th>Outcome</th>\n",
       "    </tr>\n",
       "  </thead>\n",
       "  <tbody>\n",
       "  </tbody>\n",
       "</table>\n",
       "</div>"
      ],
      "text/plain": [
       "Empty DataFrame\n",
       "Columns: [Pregnancies, Glucose, BloodPressure, SkinThickness, Insulin, BMI, DiabetesPedigreeFunction, Age, Outcome]\n",
       "Index: []"
      ]
     },
     "execution_count": 44,
     "metadata": {},
     "output_type": "execute_result"
    }
   ],
   "source": [
    "#checking for  duplicates.\n",
    "data_df[data_df.duplicated()]"
   ]
  },
  {
   "cell_type": "markdown",
   "id": "8a57a8e6",
   "metadata": {},
   "source": [
    "<b>Dataset is free from duplicate entries.</b>"
   ]
  },
  {
   "cell_type": "markdown",
   "id": "199bd21c",
   "metadata": {},
   "source": [
    "[Back to Contents](#back)"
   ]
  },
  {
   "cell_type": "markdown",
   "id": "e7ae2afa",
   "metadata": {},
   "source": [
    "## Correlation <a id='correlation'></a>"
   ]
  },
  {
   "cell_type": "code",
   "execution_count": 45,
   "id": "e5cfaa57",
   "metadata": {},
   "outputs": [
    {
     "data": {
      "text/html": [
       "<div>\n",
       "<style scoped>\n",
       "    .dataframe tbody tr th:only-of-type {\n",
       "        vertical-align: middle;\n",
       "    }\n",
       "\n",
       "    .dataframe tbody tr th {\n",
       "        vertical-align: top;\n",
       "    }\n",
       "\n",
       "    .dataframe thead th {\n",
       "        text-align: right;\n",
       "    }\n",
       "</style>\n",
       "<table border=\"1\" class=\"dataframe\">\n",
       "  <thead>\n",
       "    <tr style=\"text-align: right;\">\n",
       "      <th></th>\n",
       "      <th>Pregnancies</th>\n",
       "      <th>Glucose</th>\n",
       "      <th>BloodPressure</th>\n",
       "      <th>SkinThickness</th>\n",
       "      <th>Insulin</th>\n",
       "      <th>BMI</th>\n",
       "      <th>DiabetesPedigreeFunction</th>\n",
       "      <th>Age</th>\n",
       "      <th>Outcome</th>\n",
       "    </tr>\n",
       "  </thead>\n",
       "  <tbody>\n",
       "    <tr>\n",
       "      <th>Pregnancies</th>\n",
       "      <td>1.000000</td>\n",
       "      <td>0.129459</td>\n",
       "      <td>0.214178</td>\n",
       "      <td>0.100239</td>\n",
       "      <td>0.082171</td>\n",
       "      <td>0.017683</td>\n",
       "      <td>-0.033523</td>\n",
       "      <td>0.544341</td>\n",
       "      <td>0.221898</td>\n",
       "    </tr>\n",
       "    <tr>\n",
       "      <th>Glucose</th>\n",
       "      <td>0.129459</td>\n",
       "      <td>1.000000</td>\n",
       "      <td>0.221436</td>\n",
       "      <td>0.211354</td>\n",
       "      <td>0.580010</td>\n",
       "      <td>0.221071</td>\n",
       "      <td>0.137337</td>\n",
       "      <td>0.263514</td>\n",
       "      <td>0.466581</td>\n",
       "    </tr>\n",
       "    <tr>\n",
       "      <th>BloodPressure</th>\n",
       "      <td>0.214178</td>\n",
       "      <td>0.221436</td>\n",
       "      <td>1.000000</td>\n",
       "      <td>0.226839</td>\n",
       "      <td>0.098272</td>\n",
       "      <td>0.258735</td>\n",
       "      <td>-0.002805</td>\n",
       "      <td>0.330107</td>\n",
       "      <td>0.170589</td>\n",
       "    </tr>\n",
       "    <tr>\n",
       "      <th>SkinThickness</th>\n",
       "      <td>0.100239</td>\n",
       "      <td>0.211354</td>\n",
       "      <td>0.226839</td>\n",
       "      <td>1.000000</td>\n",
       "      <td>0.184888</td>\n",
       "      <td>0.631959</td>\n",
       "      <td>0.115016</td>\n",
       "      <td>0.166816</td>\n",
       "      <td>0.259491</td>\n",
       "    </tr>\n",
       "    <tr>\n",
       "      <th>Insulin</th>\n",
       "      <td>0.082171</td>\n",
       "      <td>0.580010</td>\n",
       "      <td>0.098272</td>\n",
       "      <td>0.184888</td>\n",
       "      <td>1.000000</td>\n",
       "      <td>0.228328</td>\n",
       "      <td>0.130395</td>\n",
       "      <td>0.220261</td>\n",
       "      <td>0.303454</td>\n",
       "    </tr>\n",
       "    <tr>\n",
       "      <th>BMI</th>\n",
       "      <td>0.017683</td>\n",
       "      <td>0.221071</td>\n",
       "      <td>0.258735</td>\n",
       "      <td>0.631959</td>\n",
       "      <td>0.228328</td>\n",
       "      <td>1.000000</td>\n",
       "      <td>0.140647</td>\n",
       "      <td>0.036242</td>\n",
       "      <td>0.292695</td>\n",
       "    </tr>\n",
       "    <tr>\n",
       "      <th>DiabetesPedigreeFunction</th>\n",
       "      <td>-0.033523</td>\n",
       "      <td>0.137337</td>\n",
       "      <td>-0.002805</td>\n",
       "      <td>0.115016</td>\n",
       "      <td>0.130395</td>\n",
       "      <td>0.140647</td>\n",
       "      <td>1.000000</td>\n",
       "      <td>0.033561</td>\n",
       "      <td>0.173844</td>\n",
       "    </tr>\n",
       "    <tr>\n",
       "      <th>Age</th>\n",
       "      <td>0.544341</td>\n",
       "      <td>0.263514</td>\n",
       "      <td>0.330107</td>\n",
       "      <td>0.166816</td>\n",
       "      <td>0.220261</td>\n",
       "      <td>0.036242</td>\n",
       "      <td>0.033561</td>\n",
       "      <td>1.000000</td>\n",
       "      <td>0.238356</td>\n",
       "    </tr>\n",
       "    <tr>\n",
       "      <th>Outcome</th>\n",
       "      <td>0.221898</td>\n",
       "      <td>0.466581</td>\n",
       "      <td>0.170589</td>\n",
       "      <td>0.259491</td>\n",
       "      <td>0.303454</td>\n",
       "      <td>0.292695</td>\n",
       "      <td>0.173844</td>\n",
       "      <td>0.238356</td>\n",
       "      <td>1.000000</td>\n",
       "    </tr>\n",
       "  </tbody>\n",
       "</table>\n",
       "</div>"
      ],
      "text/plain": [
       "                          Pregnancies   Glucose  BloodPressure  SkinThickness  \\\n",
       "Pregnancies                  1.000000  0.129459       0.214178       0.100239   \n",
       "Glucose                      0.129459  1.000000       0.221436       0.211354   \n",
       "BloodPressure                0.214178  0.221436       1.000000       0.226839   \n",
       "SkinThickness                0.100239  0.211354       0.226839       1.000000   \n",
       "Insulin                      0.082171  0.580010       0.098272       0.184888   \n",
       "BMI                          0.017683  0.221071       0.258735       0.631959   \n",
       "DiabetesPedigreeFunction    -0.033523  0.137337      -0.002805       0.115016   \n",
       "Age                          0.544341  0.263514       0.330107       0.166816   \n",
       "Outcome                      0.221898  0.466581       0.170589       0.259491   \n",
       "\n",
       "                           Insulin       BMI  DiabetesPedigreeFunction  \\\n",
       "Pregnancies               0.082171  0.017683                 -0.033523   \n",
       "Glucose                   0.580010  0.221071                  0.137337   \n",
       "BloodPressure             0.098272  0.258735                 -0.002805   \n",
       "SkinThickness             0.184888  0.631959                  0.115016   \n",
       "Insulin                   1.000000  0.228328                  0.130395   \n",
       "BMI                       0.228328  1.000000                  0.140647   \n",
       "DiabetesPedigreeFunction  0.130395  0.140647                  1.000000   \n",
       "Age                       0.220261  0.036242                  0.033561   \n",
       "Outcome                   0.303454  0.292695                  0.173844   \n",
       "\n",
       "                               Age   Outcome  \n",
       "Pregnancies               0.544341  0.221898  \n",
       "Glucose                   0.263514  0.466581  \n",
       "BloodPressure             0.330107  0.170589  \n",
       "SkinThickness             0.166816  0.259491  \n",
       "Insulin                   0.220261  0.303454  \n",
       "BMI                       0.036242  0.292695  \n",
       "DiabetesPedigreeFunction  0.033561  0.173844  \n",
       "Age                       1.000000  0.238356  \n",
       "Outcome                   0.238356  1.000000  "
      ]
     },
     "execution_count": 45,
     "metadata": {},
     "output_type": "execute_result"
    }
   ],
   "source": [
    "#correlation matrix\n",
    "data_df.corr()"
   ]
  },
  {
   "cell_type": "code",
   "execution_count": 46,
   "id": "202f236e",
   "metadata": {},
   "outputs": [
    {
     "data": {
      "image/png": "[encoded data removed]",
      "text/plain": [
       "<Figure size 1152x432 with 2 Axes>"
      ]
     },
     "metadata": {
      "needs_background": "light"
     },
     "output_type": "display_data"
    }
   ],
   "source": [
    "# Increase the size of the heatmap.\n",
    "plt.figure(figsize=(16, 6))\n",
    "# Store heatmap object in a variable to easily access it when you want to include more features (such as title).\n",
    "# Set the range of values to be displayed on the colormap from -1 to 1, and set the annotation to True to display the correlation values on the heatmap.\n",
    "heatmap = sns.heatmap(data_df.corr(), vmin=-1, vmax=1, annot=True)\n",
    "# Give a title to the heatmap. Pad defines the distance of the title from the top of the heatmap.\n",
    "heatmap.set_title('Correlation Heatmap', fontdict={'fontsize':12}, pad=12);"
   ]
  },
  {
   "cell_type": "markdown",
   "id": "16332799",
   "metadata": {},
   "source": [
    "<b>From the above heatmap, we don't see much correlation between the variables.  \n",
    "The maximum correlation we see is only 0.5 - 0.6.  \n",
    "Better correlation between Glucose, Insulin and glucose, outcome.  \n",
    "This clearly shows that value of Glucose has some influence on the Outcome variable.</b>"
   ]
  },
  {
   "cell_type": "markdown",
   "id": "7af76f57",
   "metadata": {},
   "source": [
    "[Back to Contents](#back)"
   ]
  },
  {
   "cell_type": "markdown",
   "id": "a3bce338",
   "metadata": {},
   "source": [
    "## Average measure across different age groups. <a id='average'></a>"
   ]
  },
  {
   "cell_type": "code",
   "execution_count": 47,
   "id": "b1f9c228",
   "metadata": {},
   "outputs": [],
   "source": [
    "# The function returns the age group according to the age value, using the following rules:\n",
    "def age_group(age):\n",
    "    \n",
    "    if (age > 20) & (age < 31):\n",
    "        return '21-30'\n",
    "    elif (age > 30) &(age < 41):\n",
    "        return '31-40'\n",
    "    elif (age > 40) & (age < 51):\n",
    "        return '41-50'\n",
    "    elif (age > 50) & (age < 61):\n",
    "        return '51-60'\n",
    "    elif (age > 60) & (age < 71):\n",
    "        return '61-70'\n",
    "    elif (age > 70) & (age < 81):\n",
    "        return '71-80'\n",
    "    elif (age > 80) & (age < 91):\n",
    "        return '81-90'\n",
    "    else:\n",
    "        return 'invalid' "
   ]
  },
  {
   "cell_type": "code",
   "execution_count": 48,
   "id": "953ee44c",
   "metadata": {},
   "outputs": [
    {
     "name": "stdout",
     "output_type": "stream",
     "text": [
      "   Pregnancies  Glucose  BloodPressure  SkinThickness  Insulin   BMI  \\\n",
      "0            6      148           72.0           35.0      NaN  33.6   \n",
      "1            1       85           66.0           29.0      NaN  26.6   \n",
      "2            8      183           64.0            NaN      NaN  23.3   \n",
      "3            1       89           66.0           23.0     94.0  28.1   \n",
      "4            0      137           40.0           35.0    168.0  43.1   \n",
      "5            5      116           74.0            NaN      NaN  25.6   \n",
      "6            3       78           50.0           32.0     88.0  31.0   \n",
      "7           10      115            NaN            NaN      NaN  35.3   \n",
      "8            2      197           70.0           45.0    543.0  30.5   \n",
      "9            8      125           96.0            NaN      NaN   0.0   \n",
      "\n",
      "   DiabetesPedigreeFunction  Age  Outcome AgeGroup  \n",
      "0                     0.627   50        1    41-50  \n",
      "1                     0.351   31        0    31-40  \n",
      "2                     0.672   32        1    31-40  \n",
      "3                     0.167   21        0    21-30  \n",
      "4                     2.288   33        1    31-40  \n",
      "5                     0.201   30        0    21-30  \n",
      "6                     0.248   26        1    21-30  \n",
      "7                     0.134   29        0    21-30  \n",
      "8                     0.158   53        1    51-60  \n",
      "9                     0.232   54        1    51-60  \n"
     ]
    }
   ],
   "source": [
    "data_df['AgeGroup'] = data_df['Age'].apply(age_group)\n",
    "print(data_df.head(10))"
   ]
  },
  {
   "cell_type": "code",
   "execution_count": 49,
   "id": "a978d80c",
   "metadata": {},
   "outputs": [
    {
     "data": {
      "text/html": [
       "<div>\n",
       "<style scoped>\n",
       "    .dataframe tbody tr th:only-of-type {\n",
       "        vertical-align: middle;\n",
       "    }\n",
       "\n",
       "    .dataframe tbody tr th {\n",
       "        vertical-align: top;\n",
       "    }\n",
       "\n",
       "    .dataframe thead th {\n",
       "        text-align: right;\n",
       "    }\n",
       "</style>\n",
       "<table border=\"1\" class=\"dataframe\">\n",
       "  <thead>\n",
       "    <tr style=\"text-align: right;\">\n",
       "      <th>Outcome</th>\n",
       "      <th>AgeGroup</th>\n",
       "      <th>0</th>\n",
       "      <th>1</th>\n",
       "    </tr>\n",
       "  </thead>\n",
       "  <tbody>\n",
       "    <tr>\n",
       "      <th>0</th>\n",
       "      <td>21-30</td>\n",
       "      <td>327.0</td>\n",
       "      <td>90.0</td>\n",
       "    </tr>\n",
       "    <tr>\n",
       "      <th>1</th>\n",
       "      <td>31-40</td>\n",
       "      <td>81.0</td>\n",
       "      <td>76.0</td>\n",
       "    </tr>\n",
       "    <tr>\n",
       "      <th>2</th>\n",
       "      <td>41-50</td>\n",
       "      <td>49.0</td>\n",
       "      <td>64.0</td>\n",
       "    </tr>\n",
       "    <tr>\n",
       "      <th>3</th>\n",
       "      <td>51-60</td>\n",
       "      <td>23.0</td>\n",
       "      <td>31.0</td>\n",
       "    </tr>\n",
       "    <tr>\n",
       "      <th>4</th>\n",
       "      <td>61-70</td>\n",
       "      <td>18.0</td>\n",
       "      <td>7.0</td>\n",
       "    </tr>\n",
       "    <tr>\n",
       "      <th>5</th>\n",
       "      <td>71-80</td>\n",
       "      <td>1.0</td>\n",
       "      <td>NaN</td>\n",
       "    </tr>\n",
       "    <tr>\n",
       "      <th>6</th>\n",
       "      <td>81-90</td>\n",
       "      <td>1.0</td>\n",
       "      <td>NaN</td>\n",
       "    </tr>\n",
       "  </tbody>\n",
       "</table>\n",
       "</div>"
      ],
      "text/plain": [
       "Outcome AgeGroup      0     1\n",
       "0          21-30  327.0  90.0\n",
       "1          31-40   81.0  76.0\n",
       "2          41-50   49.0  64.0\n",
       "3          51-60   23.0  31.0\n",
       "4          61-70   18.0   7.0\n",
       "5          71-80    1.0   NaN\n",
       "6          81-90    1.0   NaN"
      ]
     },
     "execution_count": 49,
     "metadata": {},
     "output_type": "execute_result"
    }
   ],
   "source": [
    "#Count of diabetics across different age groups\n",
    "agegroup_diabetic_pivot=data_df.pivot_table(index='AgeGroup',values='Age', aggfunc='count',columns='Outcome').reset_index()\n",
    "agegroup_diabetic_pivot"
   ]
  },
  {
   "cell_type": "code",
   "execution_count": 50,
   "id": "acdfb1d8",
   "metadata": {},
   "outputs": [
    {
     "data": {
      "text/html": [
       "<div>\n",
       "<style scoped>\n",
       "    .dataframe tbody tr th:only-of-type {\n",
       "        vertical-align: middle;\n",
       "    }\n",
       "\n",
       "    .dataframe tbody tr th {\n",
       "        vertical-align: top;\n",
       "    }\n",
       "\n",
       "    .dataframe thead th {\n",
       "        text-align: right;\n",
       "    }\n",
       "</style>\n",
       "<table border=\"1\" class=\"dataframe\">\n",
       "  <thead>\n",
       "    <tr style=\"text-align: right;\">\n",
       "      <th>Outcome</th>\n",
       "      <th>AgeGroup</th>\n",
       "      <th>0</th>\n",
       "      <th>1</th>\n",
       "    </tr>\n",
       "  </thead>\n",
       "  <tbody>\n",
       "    <tr>\n",
       "      <th>0</th>\n",
       "      <td>21-30</td>\n",
       "      <td>327.0</td>\n",
       "      <td>90.0</td>\n",
       "    </tr>\n",
       "    <tr>\n",
       "      <th>1</th>\n",
       "      <td>31-40</td>\n",
       "      <td>81.0</td>\n",
       "      <td>76.0</td>\n",
       "    </tr>\n",
       "    <tr>\n",
       "      <th>2</th>\n",
       "      <td>41-50</td>\n",
       "      <td>49.0</td>\n",
       "      <td>64.0</td>\n",
       "    </tr>\n",
       "    <tr>\n",
       "      <th>3</th>\n",
       "      <td>51-60</td>\n",
       "      <td>23.0</td>\n",
       "      <td>31.0</td>\n",
       "    </tr>\n",
       "    <tr>\n",
       "      <th>4</th>\n",
       "      <td>61-70</td>\n",
       "      <td>18.0</td>\n",
       "      <td>7.0</td>\n",
       "    </tr>\n",
       "    <tr>\n",
       "      <th>5</th>\n",
       "      <td>71-80</td>\n",
       "      <td>1.0</td>\n",
       "      <td>NaN</td>\n",
       "    </tr>\n",
       "    <tr>\n",
       "      <th>6</th>\n",
       "      <td>81-90</td>\n",
       "      <td>1.0</td>\n",
       "      <td>NaN</td>\n",
       "    </tr>\n",
       "  </tbody>\n",
       "</table>\n",
       "</div>"
      ],
      "text/plain": [
       "Outcome AgeGroup      0     1\n",
       "0          21-30  327.0  90.0\n",
       "1          31-40   81.0  76.0\n",
       "2          41-50   49.0  64.0\n",
       "3          51-60   23.0  31.0\n",
       "4          61-70   18.0   7.0\n",
       "5          71-80    1.0   NaN\n",
       "6          81-90    1.0   NaN"
      ]
     },
     "execution_count": 50,
     "metadata": {},
     "output_type": "execute_result"
    }
   ],
   "source": [
    "agegroup_diabetic_pivot.rename_axis(None,axis=0)\n",
    "agegroup_diabetic_pivot"
   ]
  },
  {
   "cell_type": "code",
   "execution_count": 51,
   "id": "9102acfa",
   "metadata": {},
   "outputs": [
    {
     "data": {
      "text/html": [
       "<div>\n",
       "<style scoped>\n",
       "    .dataframe tbody tr th:only-of-type {\n",
       "        vertical-align: middle;\n",
       "    }\n",
       "\n",
       "    .dataframe tbody tr th {\n",
       "        vertical-align: top;\n",
       "    }\n",
       "\n",
       "    .dataframe thead th {\n",
       "        text-align: right;\n",
       "    }\n",
       "</style>\n",
       "<table border=\"1\" class=\"dataframe\">\n",
       "  <thead>\n",
       "    <tr style=\"text-align: right;\">\n",
       "      <th></th>\n",
       "      <th>AgeGroup</th>\n",
       "      <th>NotDiabeticCount</th>\n",
       "      <th>DiabeticCount</th>\n",
       "    </tr>\n",
       "  </thead>\n",
       "  <tbody>\n",
       "    <tr>\n",
       "      <th>0</th>\n",
       "      <td>21-30</td>\n",
       "      <td>327.0</td>\n",
       "      <td>90.0</td>\n",
       "    </tr>\n",
       "    <tr>\n",
       "      <th>1</th>\n",
       "      <td>31-40</td>\n",
       "      <td>81.0</td>\n",
       "      <td>76.0</td>\n",
       "    </tr>\n",
       "    <tr>\n",
       "      <th>2</th>\n",
       "      <td>41-50</td>\n",
       "      <td>49.0</td>\n",
       "      <td>64.0</td>\n",
       "    </tr>\n",
       "    <tr>\n",
       "      <th>3</th>\n",
       "      <td>51-60</td>\n",
       "      <td>23.0</td>\n",
       "      <td>31.0</td>\n",
       "    </tr>\n",
       "    <tr>\n",
       "      <th>4</th>\n",
       "      <td>61-70</td>\n",
       "      <td>18.0</td>\n",
       "      <td>7.0</td>\n",
       "    </tr>\n",
       "    <tr>\n",
       "      <th>5</th>\n",
       "      <td>71-80</td>\n",
       "      <td>1.0</td>\n",
       "      <td>NaN</td>\n",
       "    </tr>\n",
       "    <tr>\n",
       "      <th>6</th>\n",
       "      <td>81-90</td>\n",
       "      <td>1.0</td>\n",
       "      <td>NaN</td>\n",
       "    </tr>\n",
       "  </tbody>\n",
       "</table>\n",
       "</div>"
      ],
      "text/plain": [
       "  AgeGroup  NotDiabeticCount  DiabeticCount\n",
       "0    21-30             327.0           90.0\n",
       "1    31-40              81.0           76.0\n",
       "2    41-50              49.0           64.0\n",
       "3    51-60              23.0           31.0\n",
       "4    61-70              18.0            7.0\n",
       "5    71-80               1.0            NaN\n",
       "6    81-90               1.0            NaN"
      ]
     },
     "execution_count": 51,
     "metadata": {},
     "output_type": "execute_result"
    }
   ],
   "source": [
    "agegroup_diabetic_pivot.columns=['AgeGroup','NotDiabeticCount','DiabeticCount']\n",
    "agegroup_diabetic_pivot"
   ]
  },
  {
   "cell_type": "code",
   "execution_count": 52,
   "id": "5f14c906",
   "metadata": {},
   "outputs": [
    {
     "data": {
      "text/html": [
       "<div>\n",
       "<style scoped>\n",
       "    .dataframe tbody tr th:only-of-type {\n",
       "        vertical-align: middle;\n",
       "    }\n",
       "\n",
       "    .dataframe tbody tr th {\n",
       "        vertical-align: top;\n",
       "    }\n",
       "\n",
       "    .dataframe thead th {\n",
       "        text-align: right;\n",
       "    }\n",
       "</style>\n",
       "<table border=\"1\" class=\"dataframe\">\n",
       "  <thead>\n",
       "    <tr style=\"text-align: right;\">\n",
       "      <th></th>\n",
       "      <th>AgeGroup</th>\n",
       "      <th>NotDiabeticCount</th>\n",
       "      <th>DiabeticCount</th>\n",
       "    </tr>\n",
       "  </thead>\n",
       "  <tbody>\n",
       "    <tr>\n",
       "      <th>0</th>\n",
       "      <td>21-30</td>\n",
       "      <td>327</td>\n",
       "      <td>90</td>\n",
       "    </tr>\n",
       "    <tr>\n",
       "      <th>1</th>\n",
       "      <td>31-40</td>\n",
       "      <td>81</td>\n",
       "      <td>76</td>\n",
       "    </tr>\n",
       "    <tr>\n",
       "      <th>2</th>\n",
       "      <td>41-50</td>\n",
       "      <td>49</td>\n",
       "      <td>64</td>\n",
       "    </tr>\n",
       "    <tr>\n",
       "      <th>3</th>\n",
       "      <td>51-60</td>\n",
       "      <td>23</td>\n",
       "      <td>31</td>\n",
       "    </tr>\n",
       "    <tr>\n",
       "      <th>4</th>\n",
       "      <td>61-70</td>\n",
       "      <td>18</td>\n",
       "      <td>7</td>\n",
       "    </tr>\n",
       "    <tr>\n",
       "      <th>5</th>\n",
       "      <td>71-80</td>\n",
       "      <td>1</td>\n",
       "      <td>0</td>\n",
       "    </tr>\n",
       "    <tr>\n",
       "      <th>6</th>\n",
       "      <td>81-90</td>\n",
       "      <td>1</td>\n",
       "      <td>0</td>\n",
       "    </tr>\n",
       "  </tbody>\n",
       "</table>\n",
       "</div>"
      ],
      "text/plain": [
       "  AgeGroup  NotDiabeticCount  DiabeticCount\n",
       "0    21-30               327             90\n",
       "1    31-40                81             76\n",
       "2    41-50                49             64\n",
       "3    51-60                23             31\n",
       "4    61-70                18              7\n",
       "5    71-80                 1              0\n",
       "6    81-90                 1              0"
      ]
     },
     "execution_count": 52,
     "metadata": {},
     "output_type": "execute_result"
    }
   ],
   "source": [
    "agegroup_diabetic_pivot['DiabeticCount']=agegroup_diabetic_pivot['DiabeticCount'].fillna(0)\n",
    "agegroup_diabetic_pivot['DiabeticCount']=agegroup_diabetic_pivot['DiabeticCount'].astype('int')\n",
    "agegroup_diabetic_pivot['NotDiabeticCount']=agegroup_diabetic_pivot['NotDiabeticCount'].astype('int')\n",
    "agegroup_diabetic_pivot"
   ]
  },
  {
   "cell_type": "code",
   "execution_count": 53,
   "id": "7689fc88",
   "metadata": {},
   "outputs": [
    {
     "data": {
      "image/png": "[encoded data removed]",
      "text/plain": [
       "<Figure size 432x288 with 1 Axes>"
      ]
     },
     "metadata": {
      "needs_background": "light"
     },
     "output_type": "display_data"
    }
   ],
   "source": [
    "#plotting diabetic count across different age group\n",
    "agegroup_diabetic_pivot.plot(kind='bar',x='AgeGroup',y=['DiabeticCount','NotDiabeticCount'])\n",
    "plt.legend()\n",
    "plt.ylabel('Count')\n",
    "plt.title('Diabetic count across different age groups')\n",
    "plt.show()"
   ]
  },
  {
   "cell_type": "markdown",
   "id": "7aed922d",
   "metadata": {},
   "source": [
    "<b>Women in the age group 30-50 have higher count of diabetics.  \n",
    "Young women in the age 21-30 has a low percentage(less than 30%) of diabetics dignosis.  \n",
    "Women over the age 70 cannot be analyzed because of almost no supporting data.(only 1 available)</b>"
   ]
  },
  {
   "cell_type": "markdown",
   "id": "97cff423",
   "metadata": {},
   "source": [
    "[Back to Contents](#back)"
   ]
  },
  {
   "cell_type": "code",
   "execution_count": 54,
   "id": "f92a0508",
   "metadata": {},
   "outputs": [
    {
     "data": {
      "text/html": [
       "<div>\n",
       "<style scoped>\n",
       "    .dataframe tbody tr th:only-of-type {\n",
       "        vertical-align: middle;\n",
       "    }\n",
       "\n",
       "    .dataframe tbody tr th {\n",
       "        vertical-align: top;\n",
       "    }\n",
       "\n",
       "    .dataframe thead th {\n",
       "        text-align: right;\n",
       "    }\n",
       "</style>\n",
       "<table border=\"1\" class=\"dataframe\">\n",
       "  <thead>\n",
       "    <tr style=\"text-align: right;\">\n",
       "      <th></th>\n",
       "      <th>AgeGroup</th>\n",
       "      <th>BMI</th>\n",
       "      <th>BloodPressure</th>\n",
       "      <th>Glucose</th>\n",
       "      <th>Insulin</th>\n",
       "      <th>Pregnancies</th>\n",
       "      <th>SkinThickness</th>\n",
       "    </tr>\n",
       "  </thead>\n",
       "  <tbody>\n",
       "    <tr>\n",
       "      <th>0</th>\n",
       "      <td>21-30</td>\n",
       "      <td>31.322062</td>\n",
       "      <td>68.962025</td>\n",
       "      <td>114.175060</td>\n",
       "      <td>140.624000</td>\n",
       "      <td>2.007194</td>\n",
       "      <td>27.795107</td>\n",
       "    </tr>\n",
       "    <tr>\n",
       "      <th>1</th>\n",
       "      <td>31-40</td>\n",
       "      <td>32.886624</td>\n",
       "      <td>74.046980</td>\n",
       "      <td>126.178344</td>\n",
       "      <td>162.743243</td>\n",
       "      <td>5.273885</td>\n",
       "      <td>31.310680</td>\n",
       "    </tr>\n",
       "    <tr>\n",
       "      <th>2</th>\n",
       "      <td>41-50</td>\n",
       "      <td>34.501770</td>\n",
       "      <td>77.532110</td>\n",
       "      <td>124.884956</td>\n",
       "      <td>162.166667</td>\n",
       "      <td>7.123894</td>\n",
       "      <td>31.300000</td>\n",
       "    </tr>\n",
       "    <tr>\n",
       "      <th>3</th>\n",
       "      <td>51-60</td>\n",
       "      <td>31.114815</td>\n",
       "      <td>80.055556</td>\n",
       "      <td>141.148148</td>\n",
       "      <td>273.840000</td>\n",
       "      <td>6.518519</td>\n",
       "      <td>29.250000</td>\n",
       "    </tr>\n",
       "    <tr>\n",
       "      <th>4</th>\n",
       "      <td>61-70</td>\n",
       "      <td>28.856000</td>\n",
       "      <td>78.080000</td>\n",
       "      <td>137.560000</td>\n",
       "      <td>185.000000</td>\n",
       "      <td>4.800000</td>\n",
       "      <td>37.250000</td>\n",
       "    </tr>\n",
       "    <tr>\n",
       "      <th>5</th>\n",
       "      <td>71-80</td>\n",
       "      <td>19.600000</td>\n",
       "      <td>NaN</td>\n",
       "      <td>119.000000</td>\n",
       "      <td>NaN</td>\n",
       "      <td>2.000000</td>\n",
       "      <td>NaN</td>\n",
       "    </tr>\n",
       "    <tr>\n",
       "      <th>6</th>\n",
       "      <td>81-90</td>\n",
       "      <td>25.900000</td>\n",
       "      <td>74.000000</td>\n",
       "      <td>134.000000</td>\n",
       "      <td>60.000000</td>\n",
       "      <td>9.000000</td>\n",
       "      <td>33.000000</td>\n",
       "    </tr>\n",
       "  </tbody>\n",
       "</table>\n",
       "</div>"
      ],
      "text/plain": [
       "  AgeGroup        BMI  BloodPressure     Glucose     Insulin  Pregnancies  \\\n",
       "0    21-30  31.322062      68.962025  114.175060  140.624000     2.007194   \n",
       "1    31-40  32.886624      74.046980  126.178344  162.743243     5.273885   \n",
       "2    41-50  34.501770      77.532110  124.884956  162.166667     7.123894   \n",
       "3    51-60  31.114815      80.055556  141.148148  273.840000     6.518519   \n",
       "4    61-70  28.856000      78.080000  137.560000  185.000000     4.800000   \n",
       "5    71-80  19.600000            NaN  119.000000         NaN     2.000000   \n",
       "6    81-90  25.900000      74.000000  134.000000   60.000000     9.000000   \n",
       "\n",
       "   SkinThickness  \n",
       "0      27.795107  \n",
       "1      31.310680  \n",
       "2      31.300000  \n",
       "3      29.250000  \n",
       "4      37.250000  \n",
       "5            NaN  \n",
       "6      33.000000  "
      ]
     },
     "execution_count": 54,
     "metadata": {},
     "output_type": "execute_result"
    }
   ],
   "source": [
    "#average of different varoiables across the various age groups\n",
    "agegroup_average_pivot=data_df.pivot_table(index='AgeGroup',values=['Pregnancies','Glucose','BloodPressure','Insulin','SkinThickness','BMI'], aggfunc='mean').reset_index()\n",
    "agegroup_average_pivot"
   ]
  },
  {
   "cell_type": "code",
   "execution_count": 55,
   "id": "2a20e583",
   "metadata": {},
   "outputs": [],
   "source": [
    "#fill missing values with 0.\n",
    "agegroup_average_pivot=agegroup_average_pivot.fillna(0)"
   ]
  },
  {
   "cell_type": "code",
   "execution_count": 56,
   "id": "0c7c9325",
   "metadata": {},
   "outputs": [
    {
     "data": {
      "text/html": [
       "<div>\n",
       "<style scoped>\n",
       "    .dataframe tbody tr th:only-of-type {\n",
       "        vertical-align: middle;\n",
       "    }\n",
       "\n",
       "    .dataframe tbody tr th {\n",
       "        vertical-align: top;\n",
       "    }\n",
       "\n",
       "    .dataframe thead th {\n",
       "        text-align: right;\n",
       "    }\n",
       "</style>\n",
       "<table border=\"1\" class=\"dataframe\">\n",
       "  <thead>\n",
       "    <tr style=\"text-align: right;\">\n",
       "      <th></th>\n",
       "      <th>AgeGroup</th>\n",
       "      <th>BMI</th>\n",
       "      <th>BloodPressure</th>\n",
       "      <th>Glucose</th>\n",
       "      <th>Insulin</th>\n",
       "      <th>Pregnancies</th>\n",
       "      <th>SkinThickness</th>\n",
       "    </tr>\n",
       "  </thead>\n",
       "  <tbody>\n",
       "    <tr>\n",
       "      <th>0</th>\n",
       "      <td>21-30</td>\n",
       "      <td>31</td>\n",
       "      <td>68</td>\n",
       "      <td>114</td>\n",
       "      <td>140</td>\n",
       "      <td>2</td>\n",
       "      <td>27</td>\n",
       "    </tr>\n",
       "    <tr>\n",
       "      <th>1</th>\n",
       "      <td>31-40</td>\n",
       "      <td>32</td>\n",
       "      <td>74</td>\n",
       "      <td>126</td>\n",
       "      <td>162</td>\n",
       "      <td>5</td>\n",
       "      <td>31</td>\n",
       "    </tr>\n",
       "    <tr>\n",
       "      <th>2</th>\n",
       "      <td>41-50</td>\n",
       "      <td>34</td>\n",
       "      <td>77</td>\n",
       "      <td>124</td>\n",
       "      <td>162</td>\n",
       "      <td>7</td>\n",
       "      <td>31</td>\n",
       "    </tr>\n",
       "    <tr>\n",
       "      <th>3</th>\n",
       "      <td>51-60</td>\n",
       "      <td>31</td>\n",
       "      <td>80</td>\n",
       "      <td>141</td>\n",
       "      <td>273</td>\n",
       "      <td>6</td>\n",
       "      <td>29</td>\n",
       "    </tr>\n",
       "    <tr>\n",
       "      <th>4</th>\n",
       "      <td>61-70</td>\n",
       "      <td>28</td>\n",
       "      <td>78</td>\n",
       "      <td>137</td>\n",
       "      <td>185</td>\n",
       "      <td>4</td>\n",
       "      <td>37</td>\n",
       "    </tr>\n",
       "    <tr>\n",
       "      <th>5</th>\n",
       "      <td>71-80</td>\n",
       "      <td>19</td>\n",
       "      <td>0</td>\n",
       "      <td>119</td>\n",
       "      <td>0</td>\n",
       "      <td>2</td>\n",
       "      <td>0</td>\n",
       "    </tr>\n",
       "    <tr>\n",
       "      <th>6</th>\n",
       "      <td>81-90</td>\n",
       "      <td>25</td>\n",
       "      <td>74</td>\n",
       "      <td>134</td>\n",
       "      <td>60</td>\n",
       "      <td>9</td>\n",
       "      <td>33</td>\n",
       "    </tr>\n",
       "  </tbody>\n",
       "</table>\n",
       "</div>"
      ],
      "text/plain": [
       "  AgeGroup  BMI  BloodPressure  Glucose  Insulin  Pregnancies  SkinThickness\n",
       "0    21-30   31             68      114      140            2             27\n",
       "1    31-40   32             74      126      162            5             31\n",
       "2    41-50   34             77      124      162            7             31\n",
       "3    51-60   31             80      141      273            6             29\n",
       "4    61-70   28             78      137      185            4             37\n",
       "5    71-80   19              0      119        0            2              0\n",
       "6    81-90   25             74      134       60            9             33"
      ]
     },
     "execution_count": 56,
     "metadata": {},
     "output_type": "execute_result"
    }
   ],
   "source": [
    "#Transforming all the values to integers\n",
    "agegroup_average_pivot['BMI']=agegroup_average_pivot['BMI'].astype('int')\n",
    "agegroup_average_pivot['BloodPressure']=agegroup_average_pivot['BloodPressure'].astype('int')\n",
    "agegroup_average_pivot['Glucose']=agegroup_average_pivot['Glucose'].astype('int')\n",
    "agegroup_average_pivot['Insulin']=agegroup_average_pivot['Insulin'].astype('int')\n",
    "agegroup_average_pivot['Pregnancies']=agegroup_average_pivot['Pregnancies'].astype('int')\n",
    "agegroup_average_pivot['SkinThickness']=agegroup_average_pivot['SkinThickness'].astype('int')\n",
    "agegroup_average_pivot"
   ]
  },
  {
   "cell_type": "code",
   "execution_count": 57,
   "id": "0a6a37e1",
   "metadata": {},
   "outputs": [
    {
     "data": {
      "image/png": "[encoded data removed]",
      "text/plain": [
       "<Figure size 864x432 with 1 Axes>"
      ]
     },
     "metadata": {
      "needs_background": "light"
     },
     "output_type": "display_data"
    }
   ],
   "source": [
    "#plotting the average measure across different age groups\n",
    "agegroup_average_pivot.plot(kind='bar',x='AgeGroup',y=['BMI','BloodPressure','Glucose','Insulin','Pregnancies','SkinThickness'],figsize=(12,6))\n",
    "plt.legend()\n",
    "plt.ylabel('Count')\n",
    "plt.title('Average measures across different age groups')\n",
    "plt.show()"
   ]
  },
  {
   "cell_type": "markdown",
   "id": "317a6124",
   "metadata": {},
   "source": [
    "<b>BMI, BloodPressure, Glucose and all other variables except Insulin seems to be consistent with age.  \n",
    "Insulin apike  is clearly visible with the age group 51-60.  \n",
    "</b>"
   ]
  },
  {
   "cell_type": "markdown",
   "id": "443266e6",
   "metadata": {},
   "source": [
    "[Back to Contents](#back)"
   ]
  },
  {
   "cell_type": "markdown",
   "id": "1a0b3ac1",
   "metadata": {},
   "source": [
    "## Final Conclusion     <a id='end'></a>"
   ]
  },
  {
   "cell_type": "markdown",
   "id": "841dd82b",
   "metadata": {},
   "source": [
    "\n",
    "<b>Based on our analysis, we see that   \n",
    " <b>1.BMI, BloodPressure, Glucose and all other variables except Insulin seems to be consistent with age.    \n",
    "    2.Insulin apike is clearly visible with the age group 51-60.    \n",
    "    3.Women in the age group 30-50 have higher count of diabetics.  \n",
    "    4.Young women in the age 21-30 has a low percentage(less than 30%) of diabetics dignosis.  \n",
    "    5.Women over the age 70 cannot be analyzed because of almost no supporting data.(only 1 available).  \n",
    "    6.we don't see much correlation between the variables from the heatmap created from correlation matrix.  \n",
    "    7.The maximum correlation is 0.5 - 0.6.  \n",
    "    8.Better correlation between Glucose, Insulin and glucose, outcome.This clearly shows that value of Glucose has some             influence on the Outcome variable.\n",
    "    </b>"
   ]
  },
  {
   "cell_type": "markdown",
   "id": "517be696",
   "metadata": {},
   "source": [
    "[Back to Contents](#back)"
   ]
  }
 ],
 "metadata": {
  "kernelspec": {
   "display_name": "Python 3 (ipykernel)",
   "language": "python",
   "name": "python3"
  },
  "language_info": {
   "codemirror_mode": {
    "name": "ipython",
    "version": 3
   },
   "file_extension": ".py",
   "mimetype": "text/x-python",
   "name": "python",
   "nbconvert_exporter": "python",
   "pygments_lexer": "ipython3",
   "version": "3.9.7"
  }
 },
 "nbformat": 4,
 "nbformat_minor": 5
}
